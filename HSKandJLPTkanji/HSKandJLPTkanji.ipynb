{
 "cells": [
  {
   "cell_type": "markdown",
   "metadata": {},
   "source": [
    "# Common Characters of HSK and JLPT \n",
    "\n",
    "In this notebook we explore how much Chinese and Japanese characters do overlap. In particular, we want to evaluate the overlap at different levels of fluency. In other words, if a Japanese learner starts studying Chinese, how many characters would the student know?\n",
    "\n",
    "In this work, we measure the levels of fluency based on Hanyu Shuiping Kaoshi (HSK) for Chinese, and Japanese-Language Proficiency Test (JLPT), for Japanese."
   ]
  },
  {
   "cell_type": "markdown",
   "metadata": {},
   "source": [
    "\n",
    "## Load Data\n",
    "\n",
    "The JLPT data has been obtained from http://www.tanos.co.uk and the info of HSK can be found in  http://www.hanzidb.org/about\n"
   ]
  },
  {
   "cell_type": "code",
   "execution_count": 1,
   "metadata": {},
   "outputs": [],
   "source": [
    "import numpy as np\n",
    "import pandas as pd "
   ]
  },
  {
   "cell_type": "code",
   "execution_count": 2,
   "metadata": {},
   "outputs": [],
   "source": [
    "HSK_characters = pd.read_csv(\"data/character_hsk\",sep=\"|\",header=None, names=[\"character\",\"HSK\"], dtype=str)\n",
    "JLPT_vocab = pd.read_csv('data/JLPT_vocab.txt', header = None, sep=\"\\t\", names=[\"kanji\",\"hiragana\",\"English\",\"grade\"])"
   ]
  },
  {
   "cell_type": "markdown",
   "metadata": {},
   "source": [
    "### Japanese Dataset Preprocessing\n",
    "The JLPT dataset does not contain charucters but complete words. Therefore we split the words into characters, remove hiragana/katakana and asign the JLPT level to each character."
   ]
  },
  {
   "cell_type": "code",
   "execution_count": 3,
   "metadata": {},
   "outputs": [
    {
     "data": {
      "text/html": [
       "<div>\n",
       "<style scoped>\n",
       "    .dataframe tbody tr th:only-of-type {\n",
       "        vertical-align: middle;\n",
       "    }\n",
       "\n",
       "    .dataframe tbody tr th {\n",
       "        vertical-align: top;\n",
       "    }\n",
       "\n",
       "    .dataframe thead th {\n",
       "        text-align: right;\n",
       "    }\n",
       "</style>\n",
       "<table border=\"1\" class=\"dataframe\">\n",
       "  <thead>\n",
       "    <tr style=\"text-align: right;\">\n",
       "      <th></th>\n",
       "      <th>character</th>\n",
       "      <th>JLPT</th>\n",
       "    </tr>\n",
       "  </thead>\n",
       "  <tbody>\n",
       "    <tr>\n",
       "      <th>0</th>\n",
       "      <td>会</td>\n",
       "      <td>5</td>\n",
       "    </tr>\n",
       "    <tr>\n",
       "      <th>1</th>\n",
       "      <td>青</td>\n",
       "      <td>5</td>\n",
       "    </tr>\n",
       "    <tr>\n",
       "      <th>2</th>\n",
       "      <td>赤</td>\n",
       "      <td>5</td>\n",
       "    </tr>\n",
       "    <tr>\n",
       "      <th>3</th>\n",
       "      <td>明</td>\n",
       "      <td>5</td>\n",
       "    </tr>\n",
       "    <tr>\n",
       "      <th>4</th>\n",
       "      <td>秋</td>\n",
       "      <td>5</td>\n",
       "    </tr>\n",
       "  </tbody>\n",
       "</table>\n",
       "</div>"
      ],
      "text/plain": [
       "  character JLPT\n",
       "0         会    5\n",
       "1         青    5\n",
       "2         赤    5\n",
       "3         明    5\n",
       "4         秋    5"
      ]
     },
     "execution_count": 3,
     "metadata": {},
     "output_type": "execute_result"
    }
   ],
   "source": [
    "#remove the hiragana and katakana and convert the word to a set of kanjis\n",
    "hiragana_set = set(\"\".join(JLPT_vocab[\"hiragana\"].tolist())) \n",
    "JLPT_kanji_set = JLPT_vocab[\"kanji\"].astype(str).apply(lambda x:  set(x) - hiragana_set )\n",
    "\n",
    "#get pairs of [kanji,grade]\n",
    "kanji_set=pd.concat([JLPT_kanji_set,JLPT_vocab[\"grade\"]], axis=1)\n",
    "kanji_grade_list_nested=kanji_set.apply(lambda row: [[x,row['grade']] for x in list(row['kanji'])], axis=1).tolist()\n",
    "#flatten the list\n",
    "kanji_grade_list=[item for sublist in kanji_grade_list_nested for item in sublist]\n",
    "\n",
    "#store in a dictionary where each kanji has the highest (easiest) JLPT grade\n",
    "kanji_grade_dict=dict()\n",
    "for x in kanji_grade_list:\n",
    "    [kj,gr]=x\n",
    "    kj_grade=kanji_grade_dict.get(kj,0)\n",
    "    new_grade=max(kj_grade,gr)\n",
    "    kanji_grade_dict[kj]=new_grade\n",
    "\n",
    "#convert to pandas\n",
    "JLPT_characters=pd.DataFrame(kanji_grade_dict.items()).astype(str)\n",
    "JLPT_characters.columns = ['character', 'JLPT']\n",
    "\n",
    "#show head\n",
    "JLPT_characters.head()"
   ]
  },
  {
   "cell_type": "markdown",
   "metadata": {},
   "source": [
    "### Chinese Dataset Preprocessing\n",
    "\n",
    "We add the traditional characters to the Chinese dataset "
   ]
  },
  {
   "cell_type": "code",
   "execution_count": 4,
   "metadata": {},
   "outputs": [
    {
     "data": {
      "text/html": [
       "<div>\n",
       "<style scoped>\n",
       "    .dataframe tbody tr th:only-of-type {\n",
       "        vertical-align: middle;\n",
       "    }\n",
       "\n",
       "    .dataframe tbody tr th {\n",
       "        vertical-align: top;\n",
       "    }\n",
       "\n",
       "    .dataframe thead th {\n",
       "        text-align: right;\n",
       "    }\n",
       "</style>\n",
       "<table border=\"1\" class=\"dataframe\">\n",
       "  <thead>\n",
       "    <tr style=\"text-align: right;\">\n",
       "      <th></th>\n",
       "      <th>character</th>\n",
       "      <th>HSK</th>\n",
       "      <th>traditional</th>\n",
       "    </tr>\n",
       "  </thead>\n",
       "  <tbody>\n",
       "    <tr>\n",
       "      <th>0</th>\n",
       "      <td>漂</td>\n",
       "      <td>1</td>\n",
       "      <td>漂</td>\n",
       "    </tr>\n",
       "    <tr>\n",
       "      <th>1</th>\n",
       "      <td>土</td>\n",
       "      <td>5</td>\n",
       "      <td>土</td>\n",
       "    </tr>\n",
       "    <tr>\n",
       "      <th>2</th>\n",
       "      <td>圈</td>\n",
       "      <td>5</td>\n",
       "      <td>圈</td>\n",
       "    </tr>\n",
       "    <tr>\n",
       "      <th>3</th>\n",
       "      <td>歉</td>\n",
       "      <td>4</td>\n",
       "      <td>歉</td>\n",
       "    </tr>\n",
       "    <tr>\n",
       "      <th>4</th>\n",
       "      <td>歇</td>\n",
       "      <td>5</td>\n",
       "      <td>歇</td>\n",
       "    </tr>\n",
       "  </tbody>\n",
       "</table>\n",
       "</div>"
      ],
      "text/plain": [
       "  character HSK traditional\n",
       "0         漂   1           漂\n",
       "1         土   5           土\n",
       "2         圈   5           圈\n",
       "3         歉   4           歉\n",
       "4         歇   5           歇"
      ]
     },
     "execution_count": 4,
     "metadata": {},
     "output_type": "execute_result"
    }
   ],
   "source": [
    "from hanziconv import HanziConv\n",
    "\n",
    "HSK_characters[\"traditional\"]=HSK_characters[\"character\"].apply(lambda x: HanziConv.toTraditional(x))\n",
    "HSK_characters.head()"
   ]
  },
  {
   "cell_type": "markdown",
   "metadata": {},
   "source": [
    "### Join Datasets\n",
    "Join the data of HSK and JLPT to build a single dataset containing the grades in both languages. We create one dataset using simplified characters and another with traditional."
   ]
  },
  {
   "cell_type": "code",
   "execution_count": 5,
   "metadata": {},
   "outputs": [],
   "source": [
    "character_grades = JLPT_characters.merge(HSK_characters,left_on = 'character', right_on = 'character' ,how=\"outer\")[[\"character\", \"JLPT\",  \"HSK\"]]"
   ]
  },
  {
   "cell_type": "code",
   "execution_count": 6,
   "metadata": {},
   "outputs": [],
   "source": [
    "# Do a left join with traditional characters\n",
    "character_grades_trad= character_grades.merge( HSK_characters, left_on = 'character', right_on = 'traditional' , how=\"left\" )\n",
    "#use the highst hsk (that which is not NaN)\n",
    "highest_hsk= character_grades_trad[['HSK_x','HSK_y']].fillna(\"0\").astype(\"int\").max(axis=1 ).replace(0,np.nan, inplace=False) #.astype(\"int\")\n",
    "character_grades_trad['HSK']=highest_hsk\n",
    "character_grades_trad=character_grades_trad[[\"character_x\", \"JLPT\",  \"HSK\"]].rename(columns={\"character_x\": \"character\"})"
   ]
  },
  {
   "cell_type": "markdown",
   "metadata": {},
   "source": [
    "## Some Statistics"
   ]
  },
  {
   "cell_type": "markdown",
   "metadata": {},
   "source": [
    "### Total characters"
   ]
  },
  {
   "cell_type": "code",
   "execution_count": 7,
   "metadata": {},
   "outputs": [
    {
     "name": "stdout",
     "output_type": "stream",
     "text": [
      "Number of total characters in HSK: 2636\n",
      "Number of total kanji in JLPT: 2090\n"
     ]
    }
   ],
   "source": [
    "print(\"Number of total characters in HSK: \"+str(len(HSK_characters)))\n",
    "print(\"Number of total kanji in JLPT: \"+str(len(JLPT_characters)))"
   ]
  },
  {
   "cell_type": "markdown",
   "metadata": {},
   "source": [
    "### Characters by level"
   ]
  },
  {
   "cell_type": "code",
   "execution_count": 8,
   "metadata": {
    "scrolled": false
   },
   "outputs": [
    {
     "data": {
      "image/png": "[encoded data removed]",
      "text/plain": [
       "<Figure size 432x288 with 1 Axes>"
      ]
     },
     "metadata": {
      "needs_background": "light"
     },
     "output_type": "display_data"
    },
    {
     "data": {
      "image/png": "[encoded data removed]",
      "text/plain": [
       "<Figure size 432x288 with 1 Axes>"
      ]
     },
     "metadata": {
      "needs_background": "light"
     },
     "output_type": "display_data"
    }
   ],
   "source": [
    "import matplotlib.pyplot as plt\n",
    "\n",
    "JLPT_characters.groupby(by='JLPT').agg('count').plot(kind='bar', title=\"Number of new kanji by level (JLPT)\")\n",
    "plt.show()\n",
    "\n",
    "HSK_characters.groupby(by='HSK').agg('count')[[\"character\"]].plot(kind='bar', title=\"Number of new characters by level (HSK)\")\n",
    "plt.show()"
   ]
  },
  {
   "cell_type": "markdown",
   "metadata": {},
   "source": [
    "### Unique characters"
   ]
  },
  {
   "cell_type": "code",
   "execution_count": 9,
   "metadata": {},
   "outputs": [
    {
     "name": "stdout",
     "output_type": "stream",
     "text": [
      "Characters in HSK and JLPT: 1147\n",
      "Characters only in HSK: 1489\n",
      "Characters only in JLPT: 943\n"
     ]
    },
    {
     "data": {
      "image/png": "[encoded data removed]",
      "text/plain": [
       "<Figure size 432x288 with 1 Axes>"
      ]
     },
     "metadata": {
      "needs_background": "light"
     },
     "output_type": "display_data"
    }
   ],
   "source": [
    "from sklearn.metrics import confusion_matrix\n",
    "\n",
    "print(\"Characters in HSK and JLPT: \"+str(len(character_grades[character_grades[\"JLPT\"].notna() & character_grades[\"HSK\"].notna()])) )\n",
    "print(\"Characters only in HSK: \"+str(len(character_grades[character_grades[\"JLPT\"].isna() & character_grades[\"HSK\"].notna()])) )\n",
    "print(\"Characters only in JLPT: \"+str(len(character_grades[character_grades[\"JLPT\"].notna() & character_grades[\"HSK\"].isna()])) )\n",
    "\n",
    "conf_mat=confusion_matrix(\n",
    "    character_grades[\"JLPT\"].isna().tolist(),\n",
    "    character_grades[\"HSK\"].isna().tolist() \n",
    "    )\n",
    "\n",
    "\n",
    "fig, ax = plt.subplots()\n",
    "ax.matshow(conf_mat, cmap='Blues')\n",
    "for (i, j), z in np.ndenumerate(conf_mat):\n",
    "    ax.text(j, i, '{:0.0f}'.format(z), ha='center', va='center', fontsize=28)\n",
    "\n",
    "ax.set_xticklabels(['', 'HSK', 'not HSK'])\n",
    "ax.set_yticklabels(['', 'JLPT', 'not JLPT'])\n",
    "\n",
    "plt.show()\n"
   ]
  },
  {
   "cell_type": "code",
   "execution_count": 10,
   "metadata": {},
   "outputs": [
    {
     "name": "stdout",
     "output_type": "stream",
     "text": [
      "Characters (traditional) in HSK and JLPT: 1560\n",
      "Characters (traditional) only in HSK: 1489\n",
      "Characters (traditional) only in JLPT: 531\n"
     ]
    },
    {
     "data": {
      "image/png": "[encoded data removed]",
      "text/plain": [
       "<Figure size 432x288 with 1 Axes>"
      ]
     },
     "metadata": {
      "needs_background": "light"
     },
     "output_type": "display_data"
    }
   ],
   "source": [
    "print(\"Characters (traditional) in HSK and JLPT: \"+str(len(character_grades_trad[character_grades_trad[\"JLPT\"].notna() & character_grades_trad[\"HSK\"].notna()])) )\n",
    "print(\"Characters (traditional) only in HSK: \"+str(len(character_grades_trad[character_grades_trad[\"JLPT\"].isna() & character_grades_trad[\"HSK\"].notna()])) )\n",
    "print(\"Characters (traditional) only in JLPT: \"+str(len(character_grades_trad[character_grades_trad[\"JLPT\"].notna() & character_grades_trad[\"HSK\"].isna()])) )\n",
    "\n",
    "conf_mat_trad=confusion_matrix(\n",
    "    character_grades_trad[\"JLPT\"].isna().tolist(),\n",
    "    character_grades_trad[\"HSK\"].isna().tolist() \n",
    "    )\n",
    "\n",
    "fig, ax = plt.subplots()\n",
    "ax.matshow(conf_mat_trad, cmap='Blues')\n",
    "for (i, j), z in np.ndenumerate(conf_mat_trad):\n",
    "    ax.text(j, i, '{:0.0f}'.format(z), ha='center', va='center', fontsize=28)\n",
    "\n",
    "ax.set_xticklabels(['', 'HSK', 'not HSK'])\n",
    "ax.set_yticklabels(['', 'JLPT', 'not JLPT'])\n",
    "\n",
    "plt.show()"
   ]
  },
  {
   "cell_type": "markdown",
   "metadata": {},
   "source": [
    "## Compare HSK and JLPT by Level\n",
    "\n"
   ]
  },
  {
   "cell_type": "markdown",
   "metadata": {},
   "source": [
    "### Considering Simplified Characters"
   ]
  },
  {
   "cell_type": "code",
   "execution_count": 11,
   "metadata": {},
   "outputs": [
    {
     "data": {
      "text/html": [
       "<div>\n",
       "<style scoped>\n",
       "    .dataframe tbody tr th:only-of-type {\n",
       "        vertical-align: middle;\n",
       "    }\n",
       "\n",
       "    .dataframe tbody tr th {\n",
       "        vertical-align: top;\n",
       "    }\n",
       "\n",
       "    .dataframe thead th {\n",
       "        text-align: right;\n",
       "    }\n",
       "</style>\n",
       "<table border=\"1\" class=\"dataframe\">\n",
       "  <thead>\n",
       "    <tr style=\"text-align: right;\">\n",
       "      <th></th>\n",
       "      <th>JLPT5</th>\n",
       "      <th>JLPT4</th>\n",
       "      <th>JLPT3</th>\n",
       "      <th>JLPT2</th>\n",
       "      <th>JLPT1</th>\n",
       "    </tr>\n",
       "    <tr>\n",
       "      <th>HSK</th>\n",
       "      <th></th>\n",
       "      <th></th>\n",
       "      <th></th>\n",
       "      <th></th>\n",
       "      <th></th>\n",
       "    </tr>\n",
       "  </thead>\n",
       "  <tbody>\n",
       "    <tr>\n",
       "      <th>1</th>\n",
       "      <td>70</td>\n",
       "      <td>10</td>\n",
       "      <td>21</td>\n",
       "      <td>2</td>\n",
       "      <td>7</td>\n",
       "    </tr>\n",
       "    <tr>\n",
       "      <th>2</th>\n",
       "      <td>51</td>\n",
       "      <td>20</td>\n",
       "      <td>22</td>\n",
       "      <td>5</td>\n",
       "      <td>4</td>\n",
       "    </tr>\n",
       "    <tr>\n",
       "      <th>3</th>\n",
       "      <td>46</td>\n",
       "      <td>35</td>\n",
       "      <td>48</td>\n",
       "      <td>8</td>\n",
       "      <td>13</td>\n",
       "    </tr>\n",
       "    <tr>\n",
       "      <th>4</th>\n",
       "      <td>50</td>\n",
       "      <td>47</td>\n",
       "      <td>79</td>\n",
       "      <td>23</td>\n",
       "      <td>27</td>\n",
       "    </tr>\n",
       "    <tr>\n",
       "      <th>5</th>\n",
       "      <td>37</td>\n",
       "      <td>44</td>\n",
       "      <td>99</td>\n",
       "      <td>55</td>\n",
       "      <td>56</td>\n",
       "    </tr>\n",
       "    <tr>\n",
       "      <th>6</th>\n",
       "      <td>25</td>\n",
       "      <td>22</td>\n",
       "      <td>57</td>\n",
       "      <td>68</td>\n",
       "      <td>96</td>\n",
       "    </tr>\n",
       "  </tbody>\n",
       "</table>\n",
       "</div>"
      ],
      "text/plain": [
       "     JLPT5  JLPT4  JLPT3  JLPT2  JLPT1\n",
       "HSK                                   \n",
       "1       70     10     21      2      7\n",
       "2       51     20     22      5      4\n",
       "3       46     35     48      8     13\n",
       "4       50     47     79     23     27\n",
       "5       37     44     99     55     56\n",
       "6       25     22     57     68     96"
      ]
     },
     "execution_count": 11,
     "metadata": {},
     "output_type": "execute_result"
    }
   ],
   "source": [
    "matrix_df=character_grades[[\"character\", \"JLPT\", \"HSK\"]].pivot_table(index='HSK', columns='JLPT',  aggfunc=len, fill_value=0)\n",
    "#rename columns\n",
    "matrix_df.columns=['JLPT1','JLPT2','JLPT3','JLPT4','JLPT5']\n",
    "#reorder columns\n",
    "final_table=matrix_df[['JLPT5','JLPT4','JLPT3','JLPT2','JLPT1']]\n",
    "#print final_table \n",
    "final_table"
   ]
  },
  {
   "cell_type": "markdown",
   "metadata": {},
   "source": [
    "In the table we have the number of characters that overlap between HSK/JLPT levels.\n",
    "However, achieving a certain HSK/JLPT level would imply knowing those characters of previous levels."
   ]
  },
  {
   "cell_type": "code",
   "execution_count": 12,
   "metadata": {},
   "outputs": [
    {
     "data": {
      "text/html": [
       "<div>\n",
       "<style scoped>\n",
       "    .dataframe tbody tr th:only-of-type {\n",
       "        vertical-align: middle;\n",
       "    }\n",
       "\n",
       "    .dataframe tbody tr th {\n",
       "        vertical-align: top;\n",
       "    }\n",
       "\n",
       "    .dataframe thead th {\n",
       "        text-align: right;\n",
       "    }\n",
       "</style>\n",
       "<table border=\"1\" class=\"dataframe\">\n",
       "  <thead>\n",
       "    <tr style=\"text-align: right;\">\n",
       "      <th></th>\n",
       "      <th>JLPT5</th>\n",
       "      <th>JLPT4</th>\n",
       "      <th>JLPT3</th>\n",
       "      <th>JLPT2</th>\n",
       "      <th>JLPT1</th>\n",
       "    </tr>\n",
       "    <tr>\n",
       "      <th>HSK</th>\n",
       "      <th></th>\n",
       "      <th></th>\n",
       "      <th></th>\n",
       "      <th></th>\n",
       "      <th></th>\n",
       "    </tr>\n",
       "  </thead>\n",
       "  <tbody>\n",
       "    <tr>\n",
       "      <th>1</th>\n",
       "      <td>70</td>\n",
       "      <td>80</td>\n",
       "      <td>101</td>\n",
       "      <td>103</td>\n",
       "      <td>110</td>\n",
       "    </tr>\n",
       "    <tr>\n",
       "      <th>2</th>\n",
       "      <td>121</td>\n",
       "      <td>151</td>\n",
       "      <td>194</td>\n",
       "      <td>201</td>\n",
       "      <td>212</td>\n",
       "    </tr>\n",
       "    <tr>\n",
       "      <th>3</th>\n",
       "      <td>167</td>\n",
       "      <td>232</td>\n",
       "      <td>323</td>\n",
       "      <td>338</td>\n",
       "      <td>362</td>\n",
       "    </tr>\n",
       "    <tr>\n",
       "      <th>4</th>\n",
       "      <td>217</td>\n",
       "      <td>329</td>\n",
       "      <td>499</td>\n",
       "      <td>537</td>\n",
       "      <td>588</td>\n",
       "    </tr>\n",
       "    <tr>\n",
       "      <th>5</th>\n",
       "      <td>254</td>\n",
       "      <td>410</td>\n",
       "      <td>679</td>\n",
       "      <td>772</td>\n",
       "      <td>879</td>\n",
       "    </tr>\n",
       "    <tr>\n",
       "      <th>6</th>\n",
       "      <td>279</td>\n",
       "      <td>457</td>\n",
       "      <td>783</td>\n",
       "      <td>944</td>\n",
       "      <td>1147</td>\n",
       "    </tr>\n",
       "  </tbody>\n",
       "</table>\n",
       "</div>"
      ],
      "text/plain": [
       "     JLPT5  JLPT4  JLPT3  JLPT2  JLPT1\n",
       "HSK                                   \n",
       "1       70     80    101    103    110\n",
       "2      121    151    194    201    212\n",
       "3      167    232    323    338    362\n",
       "4      217    329    499    537    588\n",
       "5      254    410    679    772    879\n",
       "6      279    457    783    944   1147"
      ]
     },
     "execution_count": 12,
     "metadata": {},
     "output_type": "execute_result"
    }
   ],
   "source": [
    "#cummulative sum \n",
    "final_table.cumsum(axis=0).cumsum(axis=1)"
   ]
  },
  {
   "cell_type": "markdown",
   "metadata": {},
   "source": [
    "This means that for example, knowing the characters of JLPT3 implies knowing: 101 characters from HSK1, 194 characters from HSK2, etc.\n",
    "\n",
    "Similarly, someone with a HSK3 level would know 167 kanjis from JLPT5, 232 kanjis from JLPT5, etc.\n"
   ]
  },
  {
   "cell_type": "markdown",
   "metadata": {},
   "source": [
    "### Considering Traditional Characters"
   ]
  },
  {
   "cell_type": "markdown",
   "metadata": {},
   "source": [
    "The low numbers found the in previous table is because many of the characters are note completely the same. Japanese kanji often correspond to the traditional variation of the hanzi character. In this section we perform the same analysis including the traditional characters."
   ]
  },
  {
   "cell_type": "code",
   "execution_count": 13,
   "metadata": {},
   "outputs": [
    {
     "data": {
      "text/html": [
       "<div>\n",
       "<style scoped>\n",
       "    .dataframe tbody tr th:only-of-type {\n",
       "        vertical-align: middle;\n",
       "    }\n",
       "\n",
       "    .dataframe tbody tr th {\n",
       "        vertical-align: top;\n",
       "    }\n",
       "\n",
       "    .dataframe thead th {\n",
       "        text-align: right;\n",
       "    }\n",
       "</style>\n",
       "<table border=\"1\" class=\"dataframe\">\n",
       "  <thead>\n",
       "    <tr style=\"text-align: right;\">\n",
       "      <th></th>\n",
       "      <th>JLPT5</th>\n",
       "      <th>JLPT4</th>\n",
       "      <th>JLPT3</th>\n",
       "      <th>JLPT2</th>\n",
       "      <th>JLPT1</th>\n",
       "    </tr>\n",
       "    <tr>\n",
       "      <th>HSK</th>\n",
       "      <th></th>\n",
       "      <th></th>\n",
       "      <th></th>\n",
       "      <th></th>\n",
       "      <th></th>\n",
       "    </tr>\n",
       "  </thead>\n",
       "  <tbody>\n",
       "    <tr>\n",
       "      <th>1.0</th>\n",
       "      <td>89</td>\n",
       "      <td>104</td>\n",
       "      <td>133</td>\n",
       "      <td>137</td>\n",
       "      <td>145</td>\n",
       "    </tr>\n",
       "    <tr>\n",
       "      <th>2.0</th>\n",
       "      <td>151</td>\n",
       "      <td>197</td>\n",
       "      <td>257</td>\n",
       "      <td>266</td>\n",
       "      <td>280</td>\n",
       "    </tr>\n",
       "    <tr>\n",
       "      <th>3.0</th>\n",
       "      <td>214</td>\n",
       "      <td>309</td>\n",
       "      <td>431</td>\n",
       "      <td>450</td>\n",
       "      <td>484</td>\n",
       "    </tr>\n",
       "    <tr>\n",
       "      <th>4.0</th>\n",
       "      <td>277</td>\n",
       "      <td>439</td>\n",
       "      <td>677</td>\n",
       "      <td>728</td>\n",
       "      <td>803</td>\n",
       "    </tr>\n",
       "    <tr>\n",
       "      <th>5.0</th>\n",
       "      <td>325</td>\n",
       "      <td>543</td>\n",
       "      <td>924</td>\n",
       "      <td>1049</td>\n",
       "      <td>1198</td>\n",
       "    </tr>\n",
       "    <tr>\n",
       "      <th>6.0</th>\n",
       "      <td>353</td>\n",
       "      <td>598</td>\n",
       "      <td>1056</td>\n",
       "      <td>1273</td>\n",
       "      <td>1560</td>\n",
       "    </tr>\n",
       "  </tbody>\n",
       "</table>\n",
       "</div>"
      ],
      "text/plain": [
       "     JLPT5  JLPT4  JLPT3  JLPT2  JLPT1\n",
       "HSK                                   \n",
       "1.0     89    104    133    137    145\n",
       "2.0    151    197    257    266    280\n",
       "3.0    214    309    431    450    484\n",
       "4.0    277    439    677    728    803\n",
       "5.0    325    543    924   1049   1198\n",
       "6.0    353    598   1056   1273   1560"
      ]
     },
     "execution_count": 13,
     "metadata": {},
     "output_type": "execute_result"
    }
   ],
   "source": [
    "matrix_df_trad=character_grades_trad[[\"character\", \"JLPT\", \"HSK\"]].pivot_table(index='HSK', columns='JLPT',  aggfunc=len, fill_value=0)\n",
    "#rename columns\n",
    "matrix_df_trad.columns=['JLPT1','JLPT2','JLPT3','JLPT4','JLPT5']\n",
    "#reorder columns\n",
    "final_table_trad=matrix_df_trad[['JLPT5','JLPT4','JLPT3','JLPT2','JLPT1']]\n",
    "\n",
    "#print final_table \n",
    "#final_table_trad\n",
    "\n",
    "#cummulative sum \n",
    "final_table_trad.cumsum(axis=0).cumsum(axis=1)"
   ]
  },
  {
   "cell_type": "code",
   "execution_count": null,
   "metadata": {},
   "outputs": [],
   "source": []
  }
 ],
 "metadata": {
  "kernelspec": {
   "display_name": "Python 3",
   "language": "python",
   "name": "python3"
  },
  "language_info": {
   "codemirror_mode": {
    "name": "ipython",
    "version": 3
   },
   "file_extension": ".py",
   "mimetype": "text/x-python",
   "name": "python",
   "nbconvert_exporter": "python",
   "pygments_lexer": "ipython3",
   "version": "3.6.10"
  }
 },
 "nbformat": 4,
 "nbformat_minor": 4
}
