{
 "cells": [
  {
   "cell_type": "markdown",
   "metadata": {},
   "source": [
    "# Kanji readings\n",
    "\n",
    "In this notebook we explore how many japanese words are necessary to cover all the readings (onyomi and kunyomi) from all the kanjis. \n",
    "\n",
    "In order to achieve this, we are going to use the JLPT vocabulary and the [Jōyō Kanji](https://en.wikipedia.org/wiki/List_of_j%C5%8Dy%C5%8D_kanji) list which contains:\n",
    "* Kyōiku kanji (1026 kanji): List of kanjis that Japanese students should learn in the elementary school (from level 1 to level 6).\n",
    "* The Secondary School Kanji (1130 kanji): List of Kanjis teached in middle and high school (level 'S')."
   ]
  },
  {
   "cell_type": "code",
   "execution_count": 1,
   "metadata": {},
   "outputs": [],
   "source": [
    "import pandas as pd \n",
    "import romkan\n",
    "\n",
    "JLPT_vocab = pd.read_csv('../HSKandJLPTkanji/data/JLPT_vocab.txt', header = None, sep=\"\\t\", names=[\"kanji\",\"hiragana\",\"English\",\"grade\"])\n",
    "kanji_grades = pd.read_csv('data/kanji_grades.txt', header = None, sep=\"\\t\", names=[\"kanji\",\"grade\",\"English\",\"reading_kana\",\"reading_romaji\"])\n"
   ]
  },
  {
   "cell_type": "markdown",
   "metadata": {},
   "source": [
    "The dataset with the vocabulary is also processed. Two columns will be added:\n",
    "* Obtain the list of kanji in each word (\"JLPT_kanji_set\" columns)\n",
    "* Produce the transliteration of the word (\"romaji\" column)"
   ]
  },
  {
   "cell_type": "code",
   "execution_count": 2,
   "metadata": {},
   "outputs": [],
   "source": [
    "#Process vocab set\n",
    "#remove the hiragana and katakana and convert the word to a set of kanjis\n",
    "hiragana_set = set(\"\".join(JLPT_vocab[\"hiragana\"].tolist())) \n",
    "\n",
    "japanese_vocabulary=JLPT_vocab[~ JLPT_vocab[\"kanji\"].isna()].sort_values(by=['grade'], ascending=False).reset_index(drop=True)\n",
    "japanese_vocabulary[\"JLPT_kanji_set\"]=japanese_vocabulary[\"kanji\"].astype(str).apply(lambda x:  list(set(x) - hiragana_set) )\n",
    "japanese_vocabulary[\"romaji\"]=japanese_vocabulary[\"hiragana\"].astype(str).apply(lambda x:  romkan.to_hepburn(x) )\n"
   ]
  },
  {
   "cell_type": "markdown",
   "metadata": {},
   "source": [
    "On the other side, we also process the dataset with the kanji so we add a new column (\"reading_romaji_set\") containing a list with the different lectures (in romaji)."
   ]
  },
  {
   "cell_type": "code",
   "execution_count": 3,
   "metadata": {},
   "outputs": [],
   "source": [
    "#Process kanji set\n",
    "reading_set = kanji_grades[\"reading_kana\"].astype(str).apply(\n",
    "    lambda x:  x.split(\"、\") #x.split(\",\")\n",
    ").apply(\n",
    "    lambda x:  [item.split(\"-\")[0].strip() for item in x if not item.startswith(\"（\")]  \n",
    ").apply(\n",
    "    lambda x:  [romkan.to_hepburn(x) for x in list(set(x))]\n",
    ")\n",
    "\n",
    "kanji_grades[\"reading_romaji_set\"]=reading_set"
   ]
  },
  {
   "cell_type": "markdown",
   "metadata": {},
   "source": [
    "In order to join the kanji and vocabulary dataset we create a dictionary `kanjireadings_words_dict` that we will populate."
   ]
  },
  {
   "cell_type": "code",
   "execution_count": 4,
   "metadata": {},
   "outputs": [],
   "source": [
    "## build a dictionary of kanji->readings and another with (kanji,reading)->word examples\n",
    "kanjireadings_dict=dict(zip(kanji_grades['kanji'],reading_set))\n",
    "\n",
    "kanjireadings_words_dict=dict()\n",
    "for elem in list(zip(kanji_grades['kanji'],reading_set)):\n",
    "    [kanj,readings]=elem\n",
    "    for wred in readings:\n",
    "        kanjireadings_words_dict[(kanj,wred)]=[]"
   ]
  },
  {
   "cell_type": "markdown",
   "metadata": {},
   "source": [
    "The output will be `kanjireadings_words_dict` therefore we add the entries. We include one example of each kanji, the easier the example the better.\n",
    "\n",
    "In order to do this we iterate over the vocabulary, from the easiest to the most difficult words (according to the JLPT level). We add the word to the corresponding kanji and reading (if it is still empty)."
   ]
  },
  {
   "cell_type": "code",
   "execution_count": 5,
   "metadata": {},
   "outputs": [],
   "source": [
    "#Populate kanjireadings_words_dict\n",
    "\n",
    "#Given a row, retrieve the pronounciation of each of their kanji\n",
    "def get_word_kanji_reading(row):\n",
    "    res=[]\n",
    "    kanji_list = row[\"JLPT_kanji_set\"]\n",
    "    pronounc = row[\"romaji\"]\n",
    "    for k in kanji_list:\n",
    "        readings_k=kanjireadings_dict.get(k,[])\n",
    "        #find longest match\n",
    "        sorted_pronounc=sorted([(x,len(x)) for x in readings_k if x in pronounc], key=lambda x: -x[1])\n",
    "        if len(sorted_pronounc)>0:\n",
    "            kanji_pronounc=sorted_pronounc [0][0] # get the longest match (and only the text, doscard the length)\n",
    "            res.append((k,kanji_pronounc))\n",
    "    return res\n",
    "\n",
    "\n",
    "\n",
    "for i in range(0,len(japanese_vocabulary)):\n",
    "    row=japanese_vocabulary.loc[i]\n",
    "    #print(row)\n",
    "    [kanji, hiragana, English,grade, JLPT_kanji_set ,romaji]=row #[\"kanji\", \"hiragana\", \"English\",\"grade\", \"JLPT_kanji_set\" ,\"romaji\"]\n",
    "    #print(row)\n",
    "    kanji_readings=get_word_kanji_reading(row)\n",
    "    #add the word to kanjireadings_words_dict (if entry is empty)\n",
    "    for kr in kanji_readings:\n",
    "        if kr in kanjireadings_words_dict.keys():\n",
    "            example=kanjireadings_words_dict[kr]\n",
    "            if len(example)==0:\n",
    "                kanjireadings_words_dict[kr]=row[[\"kanji\", 'grade', \"hiragana\", \"English\"]]\n"
   ]
  },
  {
   "cell_type": "markdown",
   "metadata": {},
   "source": [
    "Iterate over the kanji set and prepare the output dataset."
   ]
  },
  {
   "cell_type": "code",
   "execution_count": 6,
   "metadata": {},
   "outputs": [],
   "source": [
    "output=[]\n",
    "for i in range(len(kanji_grades)):\n",
    "    kanji_grade_row=kanji_grades.loc[i]\n",
    "    kanji=kanji_grade_row[\"kanji\"]\n",
    "    reading_romaji_set=kanji_grade_row[\"reading_romaji_set\"]\n",
    "    for r in reading_romaji_set:\n",
    "        word_example=kanjireadings_words_dict.get((kanji,r),[])\n",
    "        if len(word_example)>0:\n",
    "            out_example = [str(i) ,\n",
    "                kanji,\n",
    "                kanji_grade_row[\"grade\"],\n",
    "                kanji_grade_row[\"English\"],\n",
    "                kanji_grade_row[\"reading_kana\"],\n",
    "                word_example[\"kanji\"],\n",
    "                word_example[\"grade\"],\n",
    "                word_example[\"hiragana\"],\n",
    "                word_example[\"English\"] ]\n",
    "            output.append(out_example)\n",
    "\n",
    "dfOut = pd.DataFrame(output,columns=[\"idx\",\"kanji\",\"grade\",\"meaning\",\"readings\",\"word_example\",\"JLPT\",\"word_hiragana\",\"word_meaning\"]) \n"
   ]
  },
  {
   "cell_type": "code",
   "execution_count": 7,
   "metadata": {},
   "outputs": [
    {
     "data": {
      "text/html": [
       "<div>\n",
       "<style scoped>\n",
       "    .dataframe tbody tr th:only-of-type {\n",
       "        vertical-align: middle;\n",
       "    }\n",
       "\n",
       "    .dataframe tbody tr th {\n",
       "        vertical-align: top;\n",
       "    }\n",
       "\n",
       "    .dataframe thead th {\n",
       "        text-align: right;\n",
       "    }\n",
       "</style>\n",
       "<table border=\"1\" class=\"dataframe\">\n",
       "  <thead>\n",
       "    <tr style=\"text-align: right;\">\n",
       "      <th></th>\n",
       "      <th>idx</th>\n",
       "      <th>kanji</th>\n",
       "      <th>grade</th>\n",
       "      <th>meaning</th>\n",
       "      <th>readings</th>\n",
       "      <th>word_example</th>\n",
       "      <th>JLPT</th>\n",
       "      <th>word_hiragana</th>\n",
       "      <th>word_meaning</th>\n",
       "    </tr>\n",
       "  </thead>\n",
       "  <tbody>\n",
       "    <tr>\n",
       "      <th>0</th>\n",
       "      <td>0</td>\n",
       "      <td>一</td>\n",
       "      <td>1</td>\n",
       "      <td>one</td>\n",
       "      <td>イチ、イツ、ひと、ひと-つ</td>\n",
       "      <td>もう一度</td>\n",
       "      <td>5</td>\n",
       "      <td>もういちど</td>\n",
       "      <td>again</td>\n",
       "    </tr>\n",
       "    <tr>\n",
       "      <th>1</th>\n",
       "      <td>0</td>\n",
       "      <td>一</td>\n",
       "      <td>1</td>\n",
       "      <td>one</td>\n",
       "      <td>イチ、イツ、ひと、ひと-つ</td>\n",
       "      <td>同一</td>\n",
       "      <td>3</td>\n",
       "      <td>どういつ</td>\n",
       "      <td>identity; sameness; similarity</td>\n",
       "    </tr>\n",
       "    <tr>\n",
       "      <th>2</th>\n",
       "      <td>0</td>\n",
       "      <td>一</td>\n",
       "      <td>1</td>\n",
       "      <td>one</td>\n",
       "      <td>イチ、イツ、ひと、ひと-つ</td>\n",
       "      <td>一人</td>\n",
       "      <td>5</td>\n",
       "      <td>ひとり</td>\n",
       "      <td>one person</td>\n",
       "    </tr>\n",
       "    <tr>\n",
       "      <th>3</th>\n",
       "      <td>1</td>\n",
       "      <td>右</td>\n",
       "      <td>1</td>\n",
       "      <td>right</td>\n",
       "      <td>ウ、ユウ、みぎ</td>\n",
       "      <td>右</td>\n",
       "      <td>5</td>\n",
       "      <td>みぎ</td>\n",
       "      <td>right side</td>\n",
       "    </tr>\n",
       "    <tr>\n",
       "      <th>4</th>\n",
       "      <td>1</td>\n",
       "      <td>右</td>\n",
       "      <td>1</td>\n",
       "      <td>right</td>\n",
       "      <td>ウ、ユウ、みぎ</td>\n",
       "      <td>左右</td>\n",
       "      <td>3</td>\n",
       "      <td>さゆう</td>\n",
       "      <td>left and right; influence; control; domination</td>\n",
       "    </tr>\n",
       "  </tbody>\n",
       "</table>\n",
       "</div>"
      ],
      "text/plain": [
       "  idx kanji grade meaning       readings word_example  JLPT word_hiragana  \\\n",
       "0   0     一     1     one  イチ、イツ、ひと、ひと-つ         もう一度     5         もういちど   \n",
       "1   0     一     1     one  イチ、イツ、ひと、ひと-つ           同一     3          どういつ   \n",
       "2   0     一     1     one  イチ、イツ、ひと、ひと-つ           一人     5           ひとり   \n",
       "3   1     右     1  right         ウ、ユウ、みぎ            右     5            みぎ   \n",
       "4   1     右     1  right         ウ、ユウ、みぎ           左右     3           さゆう   \n",
       "\n",
       "                                     word_meaning  \n",
       "0                                           again  \n",
       "1                  identity; sameness; similarity  \n",
       "2                                      one person  \n",
       "3                                      right side  \n",
       "4  left and right; influence; control; domination  "
      ]
     },
     "execution_count": 7,
     "metadata": {},
     "output_type": "execute_result"
    }
   ],
   "source": [
    "dfOut.head()"
   ]
  },
  {
   "cell_type": "code",
   "execution_count": 8,
   "metadata": {},
   "outputs": [],
   "source": [
    "dfOut.to_csv('data/out',sep='\\t')"
   ]
  },
  {
   "cell_type": "code",
   "execution_count": 9,
   "metadata": {},
   "outputs": [],
   "source": [
    "#pd.set_option('display.max_rows', None)\n",
    "#dfOut"
   ]
  },
  {
   "cell_type": "markdown",
   "metadata": {},
   "source": [
    "## Analysis of the output"
   ]
  },
  {
   "cell_type": "code",
   "execution_count": 10,
   "metadata": {},
   "outputs": [
    {
     "name": "stdout",
     "output_type": "stream",
     "text": [
      "Number of pronunciations: 2833\n",
      "Number of different words: 2523\n",
      "Number of different words (grade 1): 176\n",
      "Number of different words (grade 2): 312\n",
      "Number of different words (grade 3): 345\n",
      "Number of different words (grade 4): 314\n",
      "Number of different words (grade 5): 278\n",
      "Number of different words (grade 6): 281\n",
      "Number of different words (grade S): 984\n"
     ]
    }
   ],
   "source": [
    "print(\"Number of pronunciations: \"+str(len(dfOut)) )\n",
    "\n",
    "def num_dif_words(df):\n",
    "    return str(len( set(df[\"word_example\"].to_list()) ))\n",
    "\n",
    "\n",
    "print(\"Number of different words: \"+ num_dif_words(dfOut))\n",
    "print(\"Number of different words (grade 1): \"+ num_dif_words(dfOut[dfOut[\"grade\"]==\"1\"]))\n",
    "print(\"Number of different words (grade 2): \"+ num_dif_words(dfOut[dfOut[\"grade\"]==\"2\"]))\n",
    "print(\"Number of different words (grade 3): \"+ num_dif_words(dfOut[dfOut[\"grade\"]==\"3\"]))\n",
    "print(\"Number of different words (grade 4): \"+ num_dif_words(dfOut[dfOut[\"grade\"]==\"4\"]))\n",
    "print(\"Number of different words (grade 5): \"+ num_dif_words(dfOut[dfOut[\"grade\"]==\"5\"]))\n",
    "print(\"Number of different words (grade 6): \"+ num_dif_words(dfOut[dfOut[\"grade\"]==\"6\"]))\n",
    "print(\"Number of different words (grade S): \"+ num_dif_words(dfOut[dfOut[\"grade\"]==\"S\"]))\n",
    "\n"
   ]
  },
  {
   "cell_type": "markdown",
   "metadata": {},
   "source": [
    "Number of words by grade and by JLPT level:"
   ]
  },
  {
   "cell_type": "code",
   "execution_count": 11,
   "metadata": {
    "scrolled": true
   },
   "outputs": [
    {
     "data": {
      "text/html": [
       "<div>\n",
       "<style scoped>\n",
       "    .dataframe tbody tr th:only-of-type {\n",
       "        vertical-align: middle;\n",
       "    }\n",
       "\n",
       "    .dataframe tbody tr th {\n",
       "        vertical-align: top;\n",
       "    }\n",
       "\n",
       "    .dataframe thead th {\n",
       "        text-align: right;\n",
       "    }\n",
       "</style>\n",
       "<table border=\"1\" class=\"dataframe\">\n",
       "  <thead>\n",
       "    <tr style=\"text-align: right;\">\n",
       "      <th>grade</th>\n",
       "      <th>1</th>\n",
       "      <th>2</th>\n",
       "      <th>3</th>\n",
       "      <th>4</th>\n",
       "      <th>5</th>\n",
       "      <th>6</th>\n",
       "      <th>S</th>\n",
       "    </tr>\n",
       "    <tr>\n",
       "      <th>JLPT</th>\n",
       "      <th></th>\n",
       "      <th></th>\n",
       "      <th></th>\n",
       "      <th></th>\n",
       "      <th></th>\n",
       "      <th></th>\n",
       "      <th></th>\n",
       "    </tr>\n",
       "  </thead>\n",
       "  <tbody>\n",
       "    <tr>\n",
       "      <th>1</th>\n",
       "      <td>12</td>\n",
       "      <td>26</td>\n",
       "      <td>30</td>\n",
       "      <td>42</td>\n",
       "      <td>44</td>\n",
       "      <td>63</td>\n",
       "      <td>411</td>\n",
       "    </tr>\n",
       "    <tr>\n",
       "      <th>2</th>\n",
       "      <td>16</td>\n",
       "      <td>26</td>\n",
       "      <td>33</td>\n",
       "      <td>43</td>\n",
       "      <td>34</td>\n",
       "      <td>55</td>\n",
       "      <td>244</td>\n",
       "    </tr>\n",
       "    <tr>\n",
       "      <th>3</th>\n",
       "      <td>29</td>\n",
       "      <td>83</td>\n",
       "      <td>129</td>\n",
       "      <td>151</td>\n",
       "      <td>157</td>\n",
       "      <td>102</td>\n",
       "      <td>253</td>\n",
       "    </tr>\n",
       "    <tr>\n",
       "      <th>4</th>\n",
       "      <td>29</td>\n",
       "      <td>57</td>\n",
       "      <td>83</td>\n",
       "      <td>64</td>\n",
       "      <td>43</td>\n",
       "      <td>32</td>\n",
       "      <td>72</td>\n",
       "    </tr>\n",
       "    <tr>\n",
       "      <th>5</th>\n",
       "      <td>99</td>\n",
       "      <td>146</td>\n",
       "      <td>92</td>\n",
       "      <td>34</td>\n",
       "      <td>12</td>\n",
       "      <td>37</td>\n",
       "      <td>50</td>\n",
       "    </tr>\n",
       "  </tbody>\n",
       "</table>\n",
       "</div>"
      ],
      "text/plain": [
       "grade   1    2    3    4    5    6    S\n",
       "JLPT                                   \n",
       "1      12   26   30   42   44   63  411\n",
       "2      16   26   33   43   34   55  244\n",
       "3      29   83  129  151  157  102  253\n",
       "4      29   57   83   64   43   32   72\n",
       "5      99  146   92   34   12   37   50"
      ]
     },
     "execution_count": 11,
     "metadata": {},
     "output_type": "execute_result"
    }
   ],
   "source": [
    "grade_JLPT_conf=dfOut.pivot_table(index='JLPT', columns='grade',values='word_example', aggfunc='count')\n",
    "grade_JLPT_conf"
   ]
  },
  {
   "cell_type": "code",
   "execution_count": null,
   "metadata": {},
   "outputs": [],
   "source": []
  }
 ],
 "metadata": {
  "kernelspec": {
   "display_name": "Python 3",
   "language": "python",
   "name": "python3"
  },
  "language_info": {
   "codemirror_mode": {
    "name": "ipython",
    "version": 3
   },
   "file_extension": ".py",
   "mimetype": "text/x-python",
   "name": "python",
   "nbconvert_exporter": "python",
   "pygments_lexer": "ipython3",
   "version": "3.6.10"
  }
 },
 "nbformat": 4,
 "nbformat_minor": 4
}
